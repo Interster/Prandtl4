{
 "cells": [
  {
   "cell_type": "markdown",
   "metadata": {},
   "source": [
    "# Prandtl main formulas\n",
    "\n",
    "This notebook has the purpose of calculating aerodynamic and performance parameters of the Prandtl 4 (the very large full size version) aircraft.  It should have a wing span of 15 metres.\n",
    "\n",
    "The lift and moment characteristics of the whole aircraft is calculated, assuming zero-moment coefficient airfoils could be produced and that the twist, taper and airfoils have been designed in order to produce the Prandtl lift distribution.\n",
    "\n",
    "The bending moment at the root is also calculated as this is an important aeroelastic parameter and because the bending moment is important with reference to an equivalent elliptical circulation distribution wing.\n",
    "\n",
    "\n",
    "The spanwise lift distribution (from the Prandtl patent US 9,382,000 B1) is given by:\n",
    "\n",
    "$$\\gamma_s(y) = \\frac{32}{3 \\pi \\mathbf{AR}} C_L \\bigg(1 - \\frac{y^2}{s^2}\\bigg) \\sqrt{s^2 - y^2}$$\n",
    "\n",
    "Lift is given by:\n",
    "\n",
    "$$L = \\frac{1}{2} \\rho V^2 S C_L$$\n",
    "\n",
    "Therefore the trim design speed is where the lift equals the mass of the aircraft:\n",
    "\n",
    "$$L = mg$$\n",
    "$$\\frac{1}{2} \\rho V^2 S C_L = mg$$\n",
    "\n",
    "Now the trim speed can be calculated as:\n",
    "\n",
    "$$V = \\sqrt{\\frac{mg}{\\frac{1}{2} \\rho S C_L}}$$\n",
    "\n",
    "\n"
   ]
  },
  {
   "cell_type": "code",
   "execution_count": null,
   "metadata": {},
   "outputs": [],
   "source": [
    "# Prandtl wing design and analysis notebook\n",
    "# Aircraft parameters\n",
    "\n",
    "# Geometric parameters\n",
    "b = 15.0 # [m] wingspan\n",
    "cr = 1.0 # [m] root chord\n",
    "ct = 0.3 # [m] tip chord\n",
    "LEsweep = 20 # [degrees] leading edge sweep\n",
    "\n",
    "# Inertial parameters\n",
    "m = 75 + 30 # [kg] Aircraft mass:  payload + structural mass\n",
    "CG = 1*cr # [m] behind leading edge at centre line of the aircraft\n",
    "\n",
    "# Aerodynamic parameters\n",
    "CL = 0.6 # Design lift coefficient of 3D wing\n",
    "CLstall = 1.2 # Stall lift coefficient of 3D wing\n",
    "CL0 = 0.3 # [] Lift coefficient at zero angle of attack of the aircraft\n",
    "CLa = 4.9 # [/rad] Lift coefficient slope\n",
    "CM0 = 0.002 # CM0 is positive for a tailless aircraft and this is achieved through reflexed airfoils\n",
    "\n",
    "# Derived parameters\n",
    "# Geometric derived parameters\n",
    "tr = ct/cr # [] taper ratio\n",
    "s = b/2 # [m] semispan of wing\n",
    "S = (s*(cr + ct)/2)*2 # [m^2] area of wing is double the trapezoid area of semispan\n",
    "\n",
    "AR = b**2/S\n",
    "\n",
    "# Atmospheric conditions\n",
    "rho = 1 # [kg/m^3] Density of air\n",
    "\n",
    "# Performance parameters\n",
    "V = ((m*9.81)/(0.5*rho*S*CL))**0.5 # [m/s] Design cruise speed\n",
    "print('Design trim speed is ' + '{:.1f}'.format(V*3.6) + 'km/h')\n",
    "Vstall = ((m*9.81)/(0.5*rho*S*CLstall))**0.5 # [m/s] Design cruise speed\n",
    "print('Design stall speed is ' + '{:.1f}'.format(Vstall*3.6) + 'km/h')"
   ]
  },
  {
   "cell_type": "code",
   "execution_count": null,
   "metadata": {},
   "outputs": [],
   "source": [
    "# All modules imported\n",
    "from math import pi\n",
    "import matplotlib.pyplot as plt\n",
    "import sympy"
   ]
  },
  {
   "cell_type": "markdown",
   "metadata": {},
   "source": [
    "# Spanwise lift distribution\n",
    "\n",
    "The spanwise lift distribution is plotted here and integrated to check that it gets the answer of the design lift coefficient."
   ]
  },
  {
   "cell_type": "code",
   "execution_count": null,
   "metadata": {},
   "outputs": [],
   "source": [
    "# Plot spanwise lift distribution\n",
    "\n",
    "points = 100\n",
    "yp = range(0, points + 1)\n",
    "y = [(i*b/2)/points for i in yp]\n",
    "g = [(32/(3*pi*AR))*CL*(1 - yi**2/(s**2))*((s**2 - yi**2)**0.5) for yi in y]\n",
    "plt.plot(y, g)\n",
    "plt.ylabel('Local lift coefficient')\n",
    "plt.xlabel('Semispan position [m]')"
   ]
  },
  {
   "cell_type": "markdown",
   "metadata": {},
   "source": [
    "The integral of the above Prandtl lift distribution must yield back the design lift coefficient.\n",
    "\n",
    "Use symbolic python to integrate the equation.\n",
    "\n",
    "The lift coefficient of the whole wing integrated is:\n",
    "\n",
    "$$C_L = 2 \\times \\frac{\\int_0^s \\gamma_s(y) dy}{S}$$ \n",
    "\n",
    "where $\\gamma_s$ is the lift coefficient for the 2D wing section"
   ]
  },
  {
   "cell_type": "code",
   "execution_count": null,
   "metadata": {},
   "outputs": [],
   "source": [
    "ysym, xsym = sympy.symbols('ysym xsym')\n",
    "\n",
    "prandtl = (32/(3*pi*AR))*CL*(1 - ysym**2/(s**2))*((s**2 - ysym**2)**0.5)\n",
    "\n",
    "print('Check the lift coefficient is the same for the whole wing when integrated:')\n",
    "print(sympy.integrate((2/S)*prandtl, (ysym, 0, s)))\n",
    "print('It gives the same as the design lift coefficient so equations were entered correctly.')"
   ]
  },
  {
   "cell_type": "code",
   "execution_count": null,
   "metadata": {},
   "outputs": [],
   "source": [
    "# Use sympy to plot the lift distribution spanwise as a check:\n",
    "# It gives the same answer so that is OK.\n",
    "t = sympy.symbols('t')\n",
    "x = 0.05*t + 0.2/((t - 5)**2 + 2)\n",
    "sympy.plotting.plot(prandtl)"
   ]
  },
  {
   "cell_type": "markdown",
   "metadata": {},
   "source": [
    "# Bending moment at root\n",
    "\n",
    "The lift coefficient for half the wing span is:\n",
    "\n",
    "$$C_L = \\frac{\\int_0^s \\gamma_s(y) dy}{S}$$ \n",
    "\n",
    "therefore the lift force for half the wing is:\n",
    "\n",
    "$$L_{0.5} = \\frac{1}{2} \\rho V^2 S \\frac{\\int_0^s \\gamma_s(y) dy}{S}$$ \n",
    "$$L_{0.5} = \\frac{1}{2} \\rho V^2 \\int_0^s \\gamma_s(y) dy$$ \n",
    "\n",
    "Now the bending moment at the root of the wing can be calculated as:\n",
    "\n",
    "$$BM = \\frac{1}{2} \\rho V^2 \\int_0^s \\gamma_s(y) y dy$$ "
   ]
  },
  {
   "cell_type": "code",
   "execution_count": null,
   "metadata": {},
   "outputs": [],
   "source": [
    "# Calculate the wing root bending moment by evaluating the above integral:\n",
    "BM = sympy.integrate((1/2)*rho*V**2*prandtl*ysym, (ysym, 0, s))"
   ]
  },
  {
   "cell_type": "code",
   "execution_count": null,
   "metadata": {},
   "outputs": [],
   "source": [
    "# Print the bending moment result:\n",
    "print('The root bending moment is ' + '{:.1f}'.format(BM) + 'N.m')\n",
    "print('The equivalent moment arm is ' + '{:.1f}'.format(BM/((m/2)*9.81)) + 'm')\n",
    "print('or ' + '{:.1f}'.format(100*(BM/((m/2)*9.81))/s) + '% semispan')"
   ]
  },
  {
   "cell_type": "markdown",
   "metadata": {},
   "source": [
    "# Neutral point calculation\n",
    "\n",
    "The neutral point is the point where the moment is independant of angle of attack.  \n",
    "\n",
    "- It is assumed that all sections of the airfoils have a zero moment coefficient in order to simplify the calculation.  \n",
    "- The centre of pressure of each airfoil is assumed to be at 25% chord.\n",
    "\n",
    "Also plot the $C_M$ versus $\\alpha$ curve in the linear region.\n",
    "\n",
    "It should be checked with CFD whether the wing has positive moment with high $\\alpha$.  This is typical of tailless aircraft and leads to nose-up stall behaviour which is highly undesirable.  It needs to be investigated whether this can be changed with aerodynamics if possible if the aircraft does turn out to behave like that.\n",
    "\n",
    "First plot the quarter chord as a distance from the leading edge at the centre line.\n",
    "Take the leading edge at the centre line of the aircraft as the moment reference point.  Take moments about this point.\n",
    "\n",
    "The lift of the Prandtl distribution is:\n",
    "\n",
    "$$L = \\frac{1}{2} \\rho V^2 S \\frac{\\int_{-s}^s \\gamma_s(y) dy}{S}$$ \n",
    "\n",
    "Therefore moments about this point is:\n",
    "\n",
    "$$M_{centre LE} = \\frac{1}{2} \\rho V^2 S \\frac{\\int_{-s}^s \\gamma_s(y) c_{0.25}(y) dy}{S}$$ \n",
    "\n",
    "The neutral point can now be calculated as the moment divided by the lift to get the moment arm:\n",
    "\n",
    "$$NP = \\frac{M_{centre LE}}{L} $$\n",
    "\n",
    "or with the necessary substitutions:\n",
    "\n",
    "$$NP = \\frac{\\int_{-s}^s \\gamma_s(y) c_{0.25}(y) dy}{\\int_{-s}^s \\gamma_s(y) dy} $$\n",
    "\n"
   ]
  },
  {
   "cell_type": "code",
   "execution_count": null,
   "metadata": {},
   "outputs": [],
   "source": [
    "# Use sympy to plot the lift distribution spanwise as a check:\n",
    "# It gives the same answer so that is OK.\n",
    "t = sympy.symbols('t')\n",
    "x = 0.05*t + 0.2/((t - 5)**2 + 2)\n",
    "#sympy.plotting.plot(sympy.abs(ysym)*sympy.tan(LEsweep*pi/180) + 0.25*chord)\n",
    "chord = (ct - cr)/s * sympy.functions.Abs(ysym) + cr\n",
    "LEmomArm = sympy.functions.Abs(ysym)*sympy.tan(LEsweep*pi/180) + 0.25*chord\n",
    "sympy.plotting.plot(LEmomArm)"
   ]
  },
  {
   "cell_type": "code",
   "execution_count": null,
   "metadata": {},
   "outputs": [],
   "source": [
    "# Integrate the equations in order to calculate the neutral point\n",
    "forceNP = sympy.integrate(prandtl, (ysym, -s, s))\n",
    "momentNP = sympy.integrate(prandtl*LEmomArm, (ysym, -s, s))"
   ]
  },
  {
   "cell_type": "code",
   "execution_count": null,
   "metadata": {},
   "outputs": [],
   "source": [
    "NP = momentNP/forceNP\n",
    "print('The neutral point is ' + '{:.3f}'.format(NP) + 'm aft of the leading edge at centre span.')\n",
    "print('This is ' + '{:.1f}'.format(100*NP/cr) + '% of root chord')"
   ]
  },
  {
   "cell_type": "markdown",
   "metadata": {},
   "source": [
    "# Performance calculations\n",
    "\n",
    "The sink speed curve is plotted here.  This determines the performance of the aircraft.  The minimum L/D is calculated here for maximum glide slope and the minimum sink rate for maximum loiter time."
   ]
  },
  {
   "cell_type": "code",
   "execution_count": null,
   "metadata": {},
   "outputs": [],
   "source": [
    "# Now calculate the moment curve of the aircraft\n",
    "# CM0 is positive for a tailless aircraft and this is achieved through reflexed airfoils"
   ]
  },
  {
   "cell_type": "markdown",
   "metadata": {},
   "source": [
    "# Aeroelastic calculations\n",
    "\n",
    "Create a mass-spring system for the wing structure with aerodynamic loading in order to obtain a bode plot for the aircraft structure under aeroelastic loading.  It must include bending as well as a torsional mode.  The frequencies of these structural modes must be outside typical gust load and pilot induced or 2-3Hz vibrational frequencies."
   ]
  }
 ],
 "metadata": {
  "kernelspec": {
   "display_name": "Python 3",
   "language": "python",
   "name": "python3"
  },
  "language_info": {
   "codemirror_mode": {
    "name": "ipython",
    "version": 3
   },
   "file_extension": ".py",
   "mimetype": "text/x-python",
   "name": "python",
   "nbconvert_exporter": "python",
   "pygments_lexer": "ipython3",
   "version": "3.6.3"
  }
 },
 "nbformat": 4,
 "nbformat_minor": 2
}
